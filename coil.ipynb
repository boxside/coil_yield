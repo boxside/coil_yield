{
 "cells": [
  {
   "cell_type": "markdown",
   "id": "herbal-footage",
   "metadata": {},
   "source": [
    "# COIL PRODUCTION ANALYSIS"
   ]
  },
  {
   "cell_type": "markdown",
   "id": "becoming-crazy",
   "metadata": {},
   "source": [
    "## Background"
   ]
  },
  {
   "cell_type": "markdown",
   "id": "introductory-comfort",
   "metadata": {},
   "source": [
    "![CRC](imagename.png)"
   ]
  },
  {
   "cell_type": "markdown",
   "id": "rational-living",
   "metadata": {},
   "source": [
    "   In Steel manufacturing company, there is cold rolling process. This process will produce cold rolled coil(CRC). CRC have better surface quality, thinner and with more precise size, also have good mechanical property and excellent durability and finishes, while hot rolled coils have excellent formability and weldability, CRC are used in a wide range of applications, such as automotive manufacturing, electrical products, rolling stock, aviation, precision instruments, and food cans. But in this process, have several challange that make reduce the efficiency of the process, this process can produce \"byproduct material\" a.k.a Scrap. this material caused by production parameter or defect after process. In this case we have to find what that make yield of process reduced."
   ]
  },
  {
   "cell_type": "markdown",
   "id": "continuous-placement",
   "metadata": {},
   "source": [
    "COLUMN EXPLANATION :\n",
    "\n",
    "    NO                     : No. of Coil\n",
    "    HRC_THICKNESS          : Raw Material Thickness \n",
    "    HRC_WIDTH              : Raw Material Width \n",
    "    HRC_WEIGHT             : Raw Material Weight \n",
    "    XXXXX_DATE             : Date process of process's unit X\n",
    "    XXXXX_TONNAGE_INPUT    : Weight Input of process's unit X\n",
    "    XXXXX_TONNAGE_OUTPUT   : Weight Output of process's unit X\n",
    "    XXXXX_SCRAP            : Weight Byproduct of process's unit X\n",
    "    XXXXX_DF               : Efficiency of process's unit X\n",
    "    PIKLING_LOSE           : Weight material that dissolved in acid\n",
    "    SOURCE                 : Source of Raw Material\n",
    "    ROLLING_LINE           : Unit of Cold Rolling Mill Line (6hi/bls)\n",
    "    XXXXX_TIME             : Time process of process's unit X\n",
    "    OUTPUT_THICKNESS       : Output Thickness from CRM process\n",
    "    OUTPUT_WIDTH           : Output Width from CRM process\n",
    "    CRC_SIZE               : Cold Rolled Coil Size\n",
    "    SALES_ORDER            : No. Of Sales Order\n",
    "    SCRAP_HRC_FINISH       : Total Byproduct from first process to the last\n",
    "    YIELD(%)               : Efficiency process to finish by Coil\n",
    "    REMARK                 : Additional Note\n",
    "    \n",
    " Unit Of Measurement :\n",
    " \n",
    "    Weight      : Metric Ton(MT) and Kilograms (Kg)\n",
    "    Length      : milimeter (mm)\n",
    "    Time        : minutes (m)\n",
    "    Date Format : YYYY-MM-DD"
   ]
  },
  {
   "cell_type": "markdown",
   "id": "prepared-reading",
   "metadata": {},
   "source": [
    "## Code "
   ]
  },
  {
   "cell_type": "markdown",
   "id": "catholic-economy",
   "metadata": {},
   "source": [
    "### Import Library"
   ]
  },
  {
   "cell_type": "code",
   "execution_count": 1,
   "id": "beautiful-organic",
   "metadata": {},
   "outputs": [],
   "source": [
    "import pandas as pd\n",
    "import numpy as np\n",
    "import seaborn as sns\n",
    "import matplotlib.pyplot as plt\n",
    "pd.options.display.max_columns = 50\n",
    "from jupyterthemes import jtplot\n",
    "jtplot.style(theme='monokai', context='notebook', ticks=True, grid=False)"
   ]
  },
  {
   "cell_type": "markdown",
   "id": "monthly-meaning",
   "metadata": {},
   "source": [
    "### Import and Check Dataset"
   ]
  },
  {
   "cell_type": "code",
   "execution_count": 2,
   "id": "hungarian-grill",
   "metadata": {},
   "outputs": [],
   "source": [
    "df = pd.read_csv(r'C:\\Users\\fikri\\Desktop\\pyproj\\coil performance\\coil_final.csv') ## import dataset"
   ]
  },
  {
   "cell_type": "code",
   "execution_count": 3,
   "id": "tested-cable",
   "metadata": {},
   "outputs": [
    {
     "name": "stdout",
     "output_type": "stream",
     "text": [
      "There are 1457 rows and 35 columns in dataset\n"
     ]
    },
    {
     "data": {
      "text/html": [
       "<div>\n",
       "<style scoped>\n",
       "    .dataframe tbody tr th:only-of-type {\n",
       "        vertical-align: middle;\n",
       "    }\n",
       "\n",
       "    .dataframe tbody tr th {\n",
       "        vertical-align: top;\n",
       "    }\n",
       "\n",
       "    .dataframe thead th {\n",
       "        text-align: right;\n",
       "    }\n",
       "</style>\n",
       "<table border=\"1\" class=\"dataframe\">\n",
       "  <thead>\n",
       "    <tr style=\"text-align: right;\">\n",
       "      <th></th>\n",
       "      <th>NO</th>\n",
       "      <th>HRC_THICKNESS</th>\n",
       "      <th>HRC_WIDTH</th>\n",
       "      <th>HRC_WEIGHT</th>\n",
       "      <th>PICKLING_DATE</th>\n",
       "      <th>SLITING_TONNAGE_INPUT</th>\n",
       "      <th>SLITING_TONNAGE_OUTPUT</th>\n",
       "      <th>SLITING_SCRAP</th>\n",
       "      <th>SLITING_DF</th>\n",
       "      <th>PICKLING_TONNAGE_INPUT</th>\n",
       "      <th>PICKLING_TONNAGE_OUTPUT</th>\n",
       "      <th>PIKLING_LOSE</th>\n",
       "      <th>PICKLING_DF</th>\n",
       "      <th>SOURCE</th>\n",
       "      <th>ROLLING_LINE</th>\n",
       "      <th>ROLLING_DATE</th>\n",
       "      <th>ROLLING_TIME</th>\n",
       "      <th>OUTPUT_THICKNESS</th>\n",
       "      <th>OUTPUT_WIDTH</th>\n",
       "      <th>CRC_SIZE</th>\n",
       "      <th>ROLLING_TONNAGE_INPUT</th>\n",
       "      <th>ROLLING_TONNAGE_OUTPUT</th>\n",
       "      <th>ROLLING_SCRAP</th>\n",
       "      <th>ROLLING_DF</th>\n",
       "      <th>SALES_ORDER</th>\n",
       "      <th>FINISHING_DATE</th>\n",
       "      <th>FINISHING_TIME</th>\n",
       "      <th>FINISHING_TONNAGE_INPUT</th>\n",
       "      <th>FINISHING_TONNAGE_OUTPUT</th>\n",
       "      <th>FINISHING_ID_SCRAP</th>\n",
       "      <th>FINISHING_TRIMING_LOSE</th>\n",
       "      <th>FINISHING_DF</th>\n",
       "      <th>SCRAP_HRC_FINISH</th>\n",
       "      <th>YIELD(%)</th>\n",
       "      <th>REMARK</th>\n",
       "    </tr>\n",
       "  </thead>\n",
       "  <tbody>\n",
       "    <tr>\n",
       "      <th>0</th>\n",
       "      <td>1</td>\n",
       "      <td>2.6</td>\n",
       "      <td>1240</td>\n",
       "      <td>19780</td>\n",
       "      <td>2020-12-10</td>\n",
       "      <td>NaN</td>\n",
       "      <td>NaN</td>\n",
       "      <td>NaN</td>\n",
       "      <td>NaN</td>\n",
       "      <td>19780.0</td>\n",
       "      <td>19560</td>\n",
       "      <td>220.0</td>\n",
       "      <td>0.988878</td>\n",
       "      <td>GR</td>\n",
       "      <td>6HI</td>\n",
       "      <td>2020-12-12</td>\n",
       "      <td>35.0</td>\n",
       "      <td>0.7</td>\n",
       "      <td>1219</td>\n",
       "      <td>0.70 X 1219</td>\n",
       "      <td>19560</td>\n",
       "      <td>19400</td>\n",
       "      <td>160</td>\n",
       "      <td>0.991820</td>\n",
       "      <td>SP0-2104-0107</td>\n",
       "      <td>2021-01-03</td>\n",
       "      <td>20</td>\n",
       "      <td>19400</td>\n",
       "      <td>18375</td>\n",
       "      <td>140.0</td>\n",
       "      <td>885</td>\n",
       "      <td>0.947165</td>\n",
       "      <td>1405</td>\n",
       "      <td>0.928969</td>\n",
       "      <td>NaN</td>\n",
       "    </tr>\n",
       "    <tr>\n",
       "      <th>1</th>\n",
       "      <td>2</td>\n",
       "      <td>2.2</td>\n",
       "      <td>1240</td>\n",
       "      <td>22840</td>\n",
       "      <td>2020-12-10</td>\n",
       "      <td>NaN</td>\n",
       "      <td>NaN</td>\n",
       "      <td>NaN</td>\n",
       "      <td>NaN</td>\n",
       "      <td>22840.0</td>\n",
       "      <td>22635</td>\n",
       "      <td>205.0</td>\n",
       "      <td>0.991025</td>\n",
       "      <td>KS</td>\n",
       "      <td>6HI</td>\n",
       "      <td>2020-12-12</td>\n",
       "      <td>23.0</td>\n",
       "      <td>0.7</td>\n",
       "      <td>1219</td>\n",
       "      <td>0.70 X 1219</td>\n",
       "      <td>22635</td>\n",
       "      <td>22520</td>\n",
       "      <td>115</td>\n",
       "      <td>0.994919</td>\n",
       "      <td>SP0-2104-0107</td>\n",
       "      <td>2021-01-03</td>\n",
       "      <td>15</td>\n",
       "      <td>22520</td>\n",
       "      <td>21290</td>\n",
       "      <td>280.0</td>\n",
       "      <td>950</td>\n",
       "      <td>0.945382</td>\n",
       "      <td>1550</td>\n",
       "      <td>0.932137</td>\n",
       "      <td>NaN</td>\n",
       "    </tr>\n",
       "    <tr>\n",
       "      <th>2</th>\n",
       "      <td>3</td>\n",
       "      <td>2.2</td>\n",
       "      <td>1240</td>\n",
       "      <td>22820</td>\n",
       "      <td>2020-12-10</td>\n",
       "      <td>NaN</td>\n",
       "      <td>NaN</td>\n",
       "      <td>NaN</td>\n",
       "      <td>NaN</td>\n",
       "      <td>22820.0</td>\n",
       "      <td>22585</td>\n",
       "      <td>235.0</td>\n",
       "      <td>0.989702</td>\n",
       "      <td>KS</td>\n",
       "      <td>6HI</td>\n",
       "      <td>2020-12-12</td>\n",
       "      <td>29.0</td>\n",
       "      <td>0.7</td>\n",
       "      <td>1219</td>\n",
       "      <td>0.70 X 1219</td>\n",
       "      <td>22585</td>\n",
       "      <td>22450</td>\n",
       "      <td>135</td>\n",
       "      <td>0.994023</td>\n",
       "      <td>SP0-2104-0107</td>\n",
       "      <td>2021-01-03</td>\n",
       "      <td>15</td>\n",
       "      <td>22450</td>\n",
       "      <td>21350</td>\n",
       "      <td>145.0</td>\n",
       "      <td>955</td>\n",
       "      <td>0.951002</td>\n",
       "      <td>1470</td>\n",
       "      <td>0.935583</td>\n",
       "      <td>NaN</td>\n",
       "    </tr>\n",
       "    <tr>\n",
       "      <th>3</th>\n",
       "      <td>4</td>\n",
       "      <td>2.2</td>\n",
       "      <td>1240</td>\n",
       "      <td>22720</td>\n",
       "      <td>2020-12-10</td>\n",
       "      <td>NaN</td>\n",
       "      <td>NaN</td>\n",
       "      <td>NaN</td>\n",
       "      <td>NaN</td>\n",
       "      <td>22720.0</td>\n",
       "      <td>22540</td>\n",
       "      <td>180.0</td>\n",
       "      <td>0.992077</td>\n",
       "      <td>KS</td>\n",
       "      <td>6HI</td>\n",
       "      <td>2020-12-12</td>\n",
       "      <td>22.0</td>\n",
       "      <td>0.7</td>\n",
       "      <td>1219</td>\n",
       "      <td>0.70 X 1219</td>\n",
       "      <td>22540</td>\n",
       "      <td>22400</td>\n",
       "      <td>140</td>\n",
       "      <td>0.993789</td>\n",
       "      <td>SP0-2104-0107</td>\n",
       "      <td>2021-01-03</td>\n",
       "      <td>20</td>\n",
       "      <td>22400</td>\n",
       "      <td>21445</td>\n",
       "      <td>150.0</td>\n",
       "      <td>805</td>\n",
       "      <td>0.957366</td>\n",
       "      <td>1275</td>\n",
       "      <td>0.943882</td>\n",
       "      <td>NaN</td>\n",
       "    </tr>\n",
       "    <tr>\n",
       "      <th>4</th>\n",
       "      <td>5</td>\n",
       "      <td>2.2</td>\n",
       "      <td>1240</td>\n",
       "      <td>22660</td>\n",
       "      <td>2020-12-10</td>\n",
       "      <td>NaN</td>\n",
       "      <td>NaN</td>\n",
       "      <td>NaN</td>\n",
       "      <td>NaN</td>\n",
       "      <td>22660.0</td>\n",
       "      <td>22430</td>\n",
       "      <td>230.0</td>\n",
       "      <td>0.989850</td>\n",
       "      <td>KS</td>\n",
       "      <td>6HI</td>\n",
       "      <td>2020-12-12</td>\n",
       "      <td>19.0</td>\n",
       "      <td>0.7</td>\n",
       "      <td>1219</td>\n",
       "      <td>0.70 X 1219</td>\n",
       "      <td>22430</td>\n",
       "      <td>22300</td>\n",
       "      <td>130</td>\n",
       "      <td>0.994204</td>\n",
       "      <td>SP0-2104-0107</td>\n",
       "      <td>2021-01-03</td>\n",
       "      <td>15</td>\n",
       "      <td>22300</td>\n",
       "      <td>21285</td>\n",
       "      <td>135.0</td>\n",
       "      <td>880</td>\n",
       "      <td>0.954484</td>\n",
       "      <td>1375</td>\n",
       "      <td>0.939320</td>\n",
       "      <td>NaN</td>\n",
       "    </tr>\n",
       "  </tbody>\n",
       "</table>\n",
       "</div>"
      ],
      "text/plain": [
       "   NO  HRC_THICKNESS  HRC_WIDTH  HRC_WEIGHT PICKLING_DATE  \\\n",
       "0   1            2.6       1240       19780    2020-12-10   \n",
       "1   2            2.2       1240       22840    2020-12-10   \n",
       "2   3            2.2       1240       22820    2020-12-10   \n",
       "3   4            2.2       1240       22720    2020-12-10   \n",
       "4   5            2.2       1240       22660    2020-12-10   \n",
       "\n",
       "   SLITING_TONNAGE_INPUT  SLITING_TONNAGE_OUTPUT  SLITING_SCRAP  SLITING_DF  \\\n",
       "0                    NaN                     NaN            NaN         NaN   \n",
       "1                    NaN                     NaN            NaN         NaN   \n",
       "2                    NaN                     NaN            NaN         NaN   \n",
       "3                    NaN                     NaN            NaN         NaN   \n",
       "4                    NaN                     NaN            NaN         NaN   \n",
       "\n",
       "   PICKLING_TONNAGE_INPUT  PICKLING_TONNAGE_OUTPUT  PIKLING_LOSE  PICKLING_DF  \\\n",
       "0                 19780.0                    19560         220.0     0.988878   \n",
       "1                 22840.0                    22635         205.0     0.991025   \n",
       "2                 22820.0                    22585         235.0     0.989702   \n",
       "3                 22720.0                    22540         180.0     0.992077   \n",
       "4                 22660.0                    22430         230.0     0.989850   \n",
       "\n",
       "  SOURCE ROLLING_LINE ROLLING_DATE  ROLLING_TIME  OUTPUT_THICKNESS  \\\n",
       "0     GR          6HI   2020-12-12          35.0               0.7   \n",
       "1     KS          6HI   2020-12-12          23.0               0.7   \n",
       "2     KS          6HI   2020-12-12          29.0               0.7   \n",
       "3     KS          6HI   2020-12-12          22.0               0.7   \n",
       "4     KS          6HI   2020-12-12          19.0               0.7   \n",
       "\n",
       "   OUTPUT_WIDTH     CRC_SIZE  ROLLING_TONNAGE_INPUT  ROLLING_TONNAGE_OUTPUT  \\\n",
       "0          1219  0.70 X 1219                  19560                   19400   \n",
       "1          1219  0.70 X 1219                  22635                   22520   \n",
       "2          1219  0.70 X 1219                  22585                   22450   \n",
       "3          1219  0.70 X 1219                  22540                   22400   \n",
       "4          1219  0.70 X 1219                  22430                   22300   \n",
       "\n",
       "   ROLLING_SCRAP  ROLLING_DF    SALES_ORDER FINISHING_DATE  FINISHING_TIME  \\\n",
       "0            160    0.991820  SP0-2104-0107     2021-01-03              20   \n",
       "1            115    0.994919  SP0-2104-0107     2021-01-03              15   \n",
       "2            135    0.994023  SP0-2104-0107     2021-01-03              15   \n",
       "3            140    0.993789  SP0-2104-0107     2021-01-03              20   \n",
       "4            130    0.994204  SP0-2104-0107     2021-01-03              15   \n",
       "\n",
       "   FINISHING_TONNAGE_INPUT  FINISHING_TONNAGE_OUTPUT  FINISHING_ID_SCRAP  \\\n",
       "0                    19400                     18375               140.0   \n",
       "1                    22520                     21290               280.0   \n",
       "2                    22450                     21350               145.0   \n",
       "3                    22400                     21445               150.0   \n",
       "4                    22300                     21285               135.0   \n",
       "\n",
       "   FINISHING_TRIMING_LOSE  FINISHING_DF  SCRAP_HRC_FINISH  YIELD(%) REMARK  \n",
       "0                     885      0.947165              1405  0.928969    NaN  \n",
       "1                     950      0.945382              1550  0.932137    NaN  \n",
       "2                     955      0.951002              1470  0.935583    NaN  \n",
       "3                     805      0.957366              1275  0.943882    NaN  \n",
       "4                     880      0.954484              1375  0.939320    NaN  "
      ]
     },
     "execution_count": 3,
     "metadata": {},
     "output_type": "execute_result"
    }
   ],
   "source": [
    "print(\"There are {} rows and {} columns in dataset\".format(df.shape[0],df.shape[1]))\n",
    "df.head()"
   ]
  },
  {
   "cell_type": "code",
   "execution_count": 4,
   "id": "narrow-toddler",
   "metadata": {},
   "outputs": [
    {
     "name": "stdout",
     "output_type": "stream",
     "text": [
      "Checking datatype every column\n",
      "<class 'pandas.core.frame.DataFrame'>\n",
      "RangeIndex: 1457 entries, 0 to 1456\n",
      "Data columns (total 35 columns):\n",
      " #   Column                    Non-Null Count  Dtype  \n",
      "---  ------                    --------------  -----  \n",
      " 0   NO                        1457 non-null   int64  \n",
      " 1   HRC_THICKNESS             1457 non-null   float64\n",
      " 2   HRC_WIDTH                 1457 non-null   int64  \n",
      " 3   HRC_WEIGHT                1457 non-null   int64  \n",
      " 4   PICKLING_DATE             1457 non-null   object \n",
      " 5   SLITING_TONNAGE_INPUT     680 non-null    float64\n",
      " 6   SLITING_TONNAGE_OUTPUT    680 non-null    float64\n",
      " 7   SLITING_SCRAP             680 non-null    float64\n",
      " 8   SLITING_DF                680 non-null    float64\n",
      " 9   PICKLING_TONNAGE_INPUT    1457 non-null   float64\n",
      " 10  PICKLING_TONNAGE_OUTPUT   1457 non-null   int64  \n",
      " 11  PIKLING_LOSE              1457 non-null   float64\n",
      " 12  PICKLING_DF               1457 non-null   float64\n",
      " 13  SOURCE                    1457 non-null   object \n",
      " 14  ROLLING_LINE              1457 non-null   object \n",
      " 15  ROLLING_DATE              1457 non-null   object \n",
      " 16  ROLLING_TIME              1456 non-null   float64\n",
      " 17  OUTPUT_THICKNESS          1457 non-null   float64\n",
      " 18  OUTPUT_WIDTH              1457 non-null   int64  \n",
      " 19  CRC_SIZE                  1457 non-null   object \n",
      " 20  ROLLING_TONNAGE_INPUT     1457 non-null   int64  \n",
      " 21  ROLLING_TONNAGE_OUTPUT    1457 non-null   int64  \n",
      " 22  ROLLING_SCRAP             1457 non-null   int64  \n",
      " 23  ROLLING_DF                1457 non-null   float64\n",
      " 24  SALES_ORDER               1457 non-null   object \n",
      " 25  FINISHING_DATE            1457 non-null   object \n",
      " 26  FINISHING_TIME            1457 non-null   int64  \n",
      " 27  FINISHING_TONNAGE_INPUT   1457 non-null   int64  \n",
      " 28  FINISHING_TONNAGE_OUTPUT  1457 non-null   int64  \n",
      " 29  FINISHING_ID_SCRAP        1455 non-null   float64\n",
      " 30  FINISHING_TRIMING_LOSE    1457 non-null   int64  \n",
      " 31  FINISHING_DF              1457 non-null   float64\n",
      " 32  SCRAP_HRC_FINISH          1457 non-null   int64  \n",
      " 33  YIELD(%)                  1457 non-null   float64\n",
      " 34  REMARK                    92 non-null     object \n",
      "dtypes: float64(14), int64(13), object(8)\n",
      "memory usage: 398.5+ KB\n",
      "None\n"
     ]
    }
   ],
   "source": [
    "print(\"Checking datatype every column\")\n",
    "print(df.info(verbose=True))"
   ]
  },
  {
   "cell_type": "markdown",
   "id": "australian-verification",
   "metadata": {},
   "source": [
    "#### checking null values"
   ]
  },
  {
   "cell_type": "code",
   "execution_count": 5,
   "id": "conventional-elephant",
   "metadata": {},
   "outputs": [
    {
     "data": {
      "text/plain": [
       "NO                             0\n",
       "HRC_THICKNESS                  0\n",
       "HRC_WIDTH                      0\n",
       "HRC_WEIGHT                     0\n",
       "PICKLING_DATE                  0\n",
       "SLITING_TONNAGE_INPUT        777\n",
       "SLITING_TONNAGE_OUTPUT       777\n",
       "SLITING_SCRAP                777\n",
       "SLITING_DF                   777\n",
       "PICKLING_TONNAGE_INPUT         0\n",
       "PICKLING_TONNAGE_OUTPUT        0\n",
       "PIKLING_LOSE                   0\n",
       "PICKLING_DF                    0\n",
       "SOURCE                         0\n",
       "ROLLING_LINE                   0\n",
       "ROLLING_DATE                   0\n",
       "ROLLING_TIME                   1\n",
       "OUTPUT_THICKNESS               0\n",
       "OUTPUT_WIDTH                   0\n",
       "CRC_SIZE                       0\n",
       "ROLLING_TONNAGE_INPUT          0\n",
       "ROLLING_TONNAGE_OUTPUT         0\n",
       "ROLLING_SCRAP                  0\n",
       "ROLLING_DF                     0\n",
       "SALES_ORDER                    0\n",
       "FINISHING_DATE                 0\n",
       "FINISHING_TIME                 0\n",
       "FINISHING_TONNAGE_INPUT        0\n",
       "FINISHING_TONNAGE_OUTPUT       0\n",
       "FINISHING_ID_SCRAP             2\n",
       "FINISHING_TRIMING_LOSE         0\n",
       "FINISHING_DF                   0\n",
       "SCRAP_HRC_FINISH               0\n",
       "YIELD(%)                       0\n",
       "REMARK                      1365\n",
       "dtype: int64"
      ]
     },
     "execution_count": 5,
     "metadata": {},
     "output_type": "execute_result"
    }
   ],
   "source": [
    "df.isnull().sum()"
   ]
  },
  {
   "cell_type": "code",
   "execution_count": 6,
   "id": "colored-singles",
   "metadata": {},
   "outputs": [
    {
     "data": {
      "text/plain": [
       "[195]"
      ]
     },
     "execution_count": 6,
     "metadata": {},
     "output_type": "execute_result"
    }
   ],
   "source": [
    "# there 2 columns with null values\n",
    "# check where row that has null value\n",
    "df[df['ROLLING_TIME'].isnull()].index.tolist()"
   ]
  },
  {
   "cell_type": "code",
   "execution_count": 7,
   "id": "filled-looking",
   "metadata": {},
   "outputs": [
    {
     "name": "stdout",
     "output_type": "stream",
     "text": [
      "26.726027397260275\n",
      "0\n"
     ]
    },
    {
     "name": "stderr",
     "output_type": "stream",
     "text": [
      "c:\\users\\fikri\\appdata\\local\\programs\\python\\python37\\lib\\site-packages\\pandas\\core\\indexing.py:1637: SettingWithCopyWarning: \n",
      "A value is trying to be set on a copy of a slice from a DataFrame\n",
      "\n",
      "See the caveats in the documentation: https://pandas.pydata.org/pandas-docs/stable/user_guide/indexing.html#returning-a-view-versus-a-copy\n",
      "  self._setitem_single_block(indexer, value, name)\n"
     ]
    }
   ],
   "source": [
    "# fill null value 'FINISHING_ID_SCRAP' to 0\n",
    "# fill null value 'ROLLING_TIME' with average time process with same size.\n",
    "df['FINISHING_ID_SCRAP'].fillna(0,inplace=True)\n",
    "df['ROLLING_TIME'].iloc[195] = df[df['CRC_SIZE'] == df['CRC_SIZE'].iloc[195]]['ROLLING_TIME'].mean()\n",
    "print(df['ROLLING_TIME'].iloc[195])\n",
    "print(df['FINISHING_ID_SCRAP'].isnull().sum())"
   ]
  },
  {
   "cell_type": "markdown",
   "id": "constant-discharge",
   "metadata": {},
   "source": [
    "### DATA WRANGLING"
   ]
  },
  {
   "cell_type": "code",
   "execution_count": 8,
   "id": "disabled-junction",
   "metadata": {},
   "outputs": [
    {
     "name": "stdout",
     "output_type": "stream",
     "text": [
      "0   2020-12-10\n",
      "1   2020-12-10\n",
      "2   2020-12-10\n",
      "3   2020-12-10\n",
      "4   2020-12-10\n",
      "Name: PICKLING_DATE, dtype: datetime64[ns]\n",
      "0   2020-12-12\n",
      "1   2020-12-12\n",
      "2   2020-12-12\n",
      "3   2020-12-12\n",
      "4   2020-12-12\n",
      "Name: ROLLING_DATE, dtype: datetime64[ns]\n",
      "0   2021-01-03\n",
      "1   2021-01-03\n",
      "2   2021-01-03\n",
      "3   2021-01-03\n",
      "4   2021-01-03\n",
      "Name: FINISHING_DATE, dtype: datetime64[ns]\n"
     ]
    }
   ],
   "source": [
    "## change datatype for date data\n",
    "date_data = ['PICKLING_DATE','ROLLING_DATE','FINISHING_DATE']\n",
    "for date in date_data :\n",
    "    df[date] = pd.to_datetime(df[date])\n",
    "    print(df[date].head())"
   ]
  },
  {
   "cell_type": "code",
   "execution_count": 9,
   "id": "deluxe-montreal",
   "metadata": {},
   "outputs": [],
   "source": [
    "# CHANGE OUTPUT_WIDTH AND OUTPUT_THICKNESS TO CATEGORICAL DATA RANGE\n",
    "\n",
    "df['WIDTH_RANGE'] = pd.cut(df['OUTPUT_WIDTH'], [0, 929, 1000, 1300], labels=['<930', '930-1000', '1000-1300'])\n",
    "df['THICKNESS_RANGE'] = pd.cut(df['OUTPUT_THICKNESS'], [0, 0.249,0.649,1,2], labels=['<0.250', '0.250-0.649', '0.650-1','>1'])\n",
    "\n",
    "# THERE IS STANDARD FOR 'YIELD(%)' VALUE IF WANT TO SEND FINISH GOODS TO CUSTOMER,\n",
    "# RANGE YIELD THRESHOLD IS 92%-97% THAT ACCEPTABLE\n",
    "df['status'] = np.where((df['YIELD(%)'] <0.92),'Below Low Threshold',np.where(\n",
    "                             (df['YIELD(%)'] >= 0.92)  & (df['YIELD(%)'] <=0.97) ,'Acceptable',np.where\\\n",
    "                             ((df['YIELD(%)'] >0.97) ,'Above Upper Threshold','out of parameter' )))\n"
   ]
  },
  {
   "cell_type": "markdown",
   "id": "handy-procurement",
   "metadata": {},
   "source": [
    "### Find product yield acceptance"
   ]
  },
  {
   "cell_type": "code",
   "execution_count": 10,
   "id": "caroline-adobe",
   "metadata": {},
   "outputs": [
    {
     "data": {
      "text/html": [
       "<div>\n",
       "<style scoped>\n",
       "    .dataframe tbody tr th:only-of-type {\n",
       "        vertical-align: middle;\n",
       "    }\n",
       "\n",
       "    .dataframe tbody tr th {\n",
       "        vertical-align: top;\n",
       "    }\n",
       "\n",
       "    .dataframe thead th {\n",
       "        text-align: right;\n",
       "    }\n",
       "</style>\n",
       "<table border=\"1\" class=\"dataframe\">\n",
       "  <thead>\n",
       "    <tr style=\"text-align: right;\">\n",
       "      <th></th>\n",
       "      <th>index</th>\n",
       "      <th>status_x</th>\n",
       "      <th>status_y</th>\n",
       "    </tr>\n",
       "  </thead>\n",
       "  <tbody>\n",
       "    <tr>\n",
       "      <th>0</th>\n",
       "      <td>Acceptable</td>\n",
       "      <td>1303</td>\n",
       "      <td>0.894303</td>\n",
       "    </tr>\n",
       "    <tr>\n",
       "      <th>1</th>\n",
       "      <td>Below Low Threshold</td>\n",
       "      <td>154</td>\n",
       "      <td>0.105697</td>\n",
       "    </tr>\n",
       "  </tbody>\n",
       "</table>\n",
       "</div>"
      ],
      "text/plain": [
       "                 index  status_x  status_y\n",
       "0           Acceptable      1303  0.894303\n",
       "1  Below Low Threshold       154  0.105697"
      ]
     },
     "execution_count": 10,
     "metadata": {},
     "output_type": "execute_result"
    }
   ],
   "source": [
    "status_df1 = df['status'].value_counts().reset_index()\n",
    "status_df2 = df['status'].value_counts(normalize=True).reset_index()\n",
    "\n",
    "status_df = status_df1.merge(status_df2,how='inner',on='index')\n",
    "status_df"
   ]
  },
  {
   "cell_type": "markdown",
   "id": "above-march",
   "metadata": {},
   "source": [
    "When categorize the coil in this dataset have 155 coil that below threshold it's about 10% Production have low Yield. in next section we need find the cause of this problem."
   ]
  },
  {
   "cell_type": "code",
   "execution_count": 11,
   "id": "reverse-bidder",
   "metadata": {},
   "outputs": [
    {
     "data": {
      "text/html": [
       "<div>\n",
       "<style scoped>\n",
       "    .dataframe tbody tr th:only-of-type {\n",
       "        vertical-align: middle;\n",
       "    }\n",
       "\n",
       "    .dataframe tbody tr th {\n",
       "        vertical-align: top;\n",
       "    }\n",
       "\n",
       "    .dataframe thead th {\n",
       "        text-align: right;\n",
       "    }\n",
       "</style>\n",
       "<table border=\"1\" class=\"dataframe\">\n",
       "  <thead>\n",
       "    <tr style=\"text-align: right;\">\n",
       "      <th></th>\n",
       "      <th>index</th>\n",
       "      <th>CRC_SIZE</th>\n",
       "      <th>ratio</th>\n",
       "    </tr>\n",
       "  </thead>\n",
       "  <tbody>\n",
       "    <tr>\n",
       "      <th>0</th>\n",
       "      <td>0.20 X 762</td>\n",
       "      <td>62</td>\n",
       "      <td>45.925926</td>\n",
       "    </tr>\n",
       "    <tr>\n",
       "      <th>1</th>\n",
       "      <td>0.20 X 914</td>\n",
       "      <td>57</td>\n",
       "      <td>42.222222</td>\n",
       "    </tr>\n",
       "    <tr>\n",
       "      <th>2</th>\n",
       "      <td>0.90 X 1219</td>\n",
       "      <td>9</td>\n",
       "      <td>6.666667</td>\n",
       "    </tr>\n",
       "    <tr>\n",
       "      <th>3</th>\n",
       "      <td>0.75 X 914</td>\n",
       "      <td>4</td>\n",
       "      <td>2.962963</td>\n",
       "    </tr>\n",
       "    <tr>\n",
       "      <th>4</th>\n",
       "      <td>1.10 X 1219</td>\n",
       "      <td>3</td>\n",
       "      <td>2.222222</td>\n",
       "    </tr>\n",
       "  </tbody>\n",
       "</table>\n",
       "</div>"
      ],
      "text/plain": [
       "         index  CRC_SIZE      ratio\n",
       "0   0.20 X 762        62  45.925926\n",
       "1   0.20 X 914        57  42.222222\n",
       "2  0.90 X 1219         9   6.666667\n",
       "3   0.75 X 914         4   2.962963\n",
       "4  1.10 X 1219         3   2.222222"
      ]
     },
     "execution_count": 11,
     "metadata": {},
     "output_type": "execute_result"
    }
   ],
   "source": [
    "# find top 5 of total low Yield Coil by CRC Size\n",
    "case = df[df['status'] != 'Acceptable']['CRC_SIZE'].value_counts().reset_index().sort_values('CRC_SIZE',ascending=False).head()\n",
    "case['ratio'] = (case['CRC_SIZE']/sum(case['CRC_SIZE']))*100\n",
    "case"
   ]
  },
  {
   "cell_type": "markdown",
   "id": "obvious-trash",
   "metadata": {},
   "source": [
    "the result above show that CRC with size (0.20x762) and (0.20x914) have many product with low yield. it's over 40% of total low yield coil. then we need to explore every scrap in unit process for that 5 size"
   ]
  },
  {
   "cell_type": "code",
   "execution_count": 12,
   "id": "metallic-roulette",
   "metadata": {},
   "outputs": [
    {
     "data": {
      "text/html": [
       "<div>\n",
       "<style scoped>\n",
       "    .dataframe tbody tr th:only-of-type {\n",
       "        vertical-align: middle;\n",
       "    }\n",
       "\n",
       "    .dataframe tbody tr th {\n",
       "        vertical-align: top;\n",
       "    }\n",
       "\n",
       "    .dataframe thead th {\n",
       "        text-align: right;\n",
       "    }\n",
       "</style>\n",
       "<table border=\"1\" class=\"dataframe\">\n",
       "  <thead>\n",
       "    <tr style=\"text-align: right;\">\n",
       "      <th></th>\n",
       "      <th>CRC_SIZE</th>\n",
       "      <th>SLITING_SCRAP</th>\n",
       "      <th>PIKLING_LOSE</th>\n",
       "      <th>ROLLING_SCRAP</th>\n",
       "      <th>FINISHING_ID_SCRAP</th>\n",
       "      <th>FINISHING_TRIMING_LOSE</th>\n",
       "    </tr>\n",
       "  </thead>\n",
       "  <tbody>\n",
       "    <tr>\n",
       "      <th>1</th>\n",
       "      <td>0.20 X 762</td>\n",
       "      <td>NaN</td>\n",
       "      <td>74.84</td>\n",
       "      <td>135.56</td>\n",
       "      <td>325.65</td>\n",
       "      <td>901.29</td>\n",
       "    </tr>\n",
       "    <tr>\n",
       "      <th>2</th>\n",
       "      <td>0.20 X 914</td>\n",
       "      <td>350.0</td>\n",
       "      <td>114.39</td>\n",
       "      <td>230.61</td>\n",
       "      <td>565.53</td>\n",
       "      <td>510.09</td>\n",
       "    </tr>\n",
       "    <tr>\n",
       "      <th>8</th>\n",
       "      <td>0.75 X 914</td>\n",
       "      <td>400.0</td>\n",
       "      <td>185.00</td>\n",
       "      <td>133.75</td>\n",
       "      <td>660.00</td>\n",
       "      <td>200.00</td>\n",
       "    </tr>\n",
       "    <tr>\n",
       "      <th>12</th>\n",
       "      <td>0.90 X 1219</td>\n",
       "      <td>NaN</td>\n",
       "      <td>195.56</td>\n",
       "      <td>157.22</td>\n",
       "      <td>298.33</td>\n",
       "      <td>1028.89</td>\n",
       "    </tr>\n",
       "    <tr>\n",
       "      <th>17</th>\n",
       "      <td>1.10 X 1219</td>\n",
       "      <td>NaN</td>\n",
       "      <td>158.33</td>\n",
       "      <td>121.67</td>\n",
       "      <td>228.33</td>\n",
       "      <td>1451.67</td>\n",
       "    </tr>\n",
       "  </tbody>\n",
       "</table>\n",
       "</div>"
      ],
      "text/plain": [
       "       CRC_SIZE  SLITING_SCRAP  PIKLING_LOSE  ROLLING_SCRAP  \\\n",
       "1    0.20 X 762            NaN         74.84         135.56   \n",
       "2    0.20 X 914          350.0        114.39         230.61   \n",
       "8    0.75 X 914          400.0        185.00         133.75   \n",
       "12  0.90 X 1219            NaN        195.56         157.22   \n",
       "17  1.10 X 1219            NaN        158.33         121.67   \n",
       "\n",
       "    FINISHING_ID_SCRAP  FINISHING_TRIMING_LOSE  \n",
       "1               325.65                  901.29  \n",
       "2               565.53                  510.09  \n",
       "8               660.00                  200.00  \n",
       "12              298.33                 1028.89  \n",
       "17              228.33                 1451.67  "
      ]
     },
     "execution_count": 12,
     "metadata": {},
     "output_type": "execute_result"
    }
   ],
   "source": [
    "size_req = case['index'][:5]\n",
    "scrap_size = df[df['status'] != 'Acceptable'].groupby('CRC_SIZE')[['SLITING_SCRAP','PIKLING_LOSE','ROLLING_SCRAP','FINISHING_ID_SCRAP',\\\n",
    "                                               'FINISHING_TRIMING_LOSE']].mean().reset_index().round(2)\n",
    "scrap_size[scrap_size['CRC_SIZE'].str.contains('|'.join(size_req))]"
   ]
  },
  {
   "cell_type": "code",
   "execution_count": 13,
   "id": "floppy-scratch",
   "metadata": {},
   "outputs": [
    {
     "data": {
      "text/html": [
       "<div>\n",
       "<style scoped>\n",
       "    .dataframe tbody tr th:only-of-type {\n",
       "        vertical-align: middle;\n",
       "    }\n",
       "\n",
       "    .dataframe tbody tr th {\n",
       "        vertical-align: top;\n",
       "    }\n",
       "\n",
       "    .dataframe thead th {\n",
       "        text-align: right;\n",
       "    }\n",
       "</style>\n",
       "<table border=\"1\" class=\"dataframe\">\n",
       "  <thead>\n",
       "    <tr style=\"text-align: right;\">\n",
       "      <th></th>\n",
       "      <th>CRC_SIZE</th>\n",
       "      <th>SLITING_SCRAP</th>\n",
       "      <th>PIKLING_LOSE</th>\n",
       "      <th>ROLLING_SCRAP</th>\n",
       "      <th>FINISHING_ID_SCRAP</th>\n",
       "      <th>FINISHING_TRIMING_LOSE</th>\n",
       "    </tr>\n",
       "  </thead>\n",
       "  <tbody>\n",
       "    <tr>\n",
       "      <th>1</th>\n",
       "      <td>0.20 X 762</td>\n",
       "      <td>NaN</td>\n",
       "      <td>74.38</td>\n",
       "      <td>125.62</td>\n",
       "      <td>339.38</td>\n",
       "      <td>798.12</td>\n",
       "    </tr>\n",
       "    <tr>\n",
       "      <th>2</th>\n",
       "      <td>0.20 X 914</td>\n",
       "      <td>275.00</td>\n",
       "      <td>104.54</td>\n",
       "      <td>149.63</td>\n",
       "      <td>398.60</td>\n",
       "      <td>445.90</td>\n",
       "    </tr>\n",
       "    <tr>\n",
       "      <th>29</th>\n",
       "      <td>0.75 X 914</td>\n",
       "      <td>401.25</td>\n",
       "      <td>161.88</td>\n",
       "      <td>112.36</td>\n",
       "      <td>366.60</td>\n",
       "      <td>8.33</td>\n",
       "    </tr>\n",
       "    <tr>\n",
       "      <th>37</th>\n",
       "      <td>0.90 X 1219</td>\n",
       "      <td>NaN</td>\n",
       "      <td>183.16</td>\n",
       "      <td>129.47</td>\n",
       "      <td>246.84</td>\n",
       "      <td>901.58</td>\n",
       "    </tr>\n",
       "    <tr>\n",
       "      <th>42</th>\n",
       "      <td>1.10 X 1219</td>\n",
       "      <td>NaN</td>\n",
       "      <td>157.50</td>\n",
       "      <td>150.71</td>\n",
       "      <td>241.43</td>\n",
       "      <td>1008.57</td>\n",
       "    </tr>\n",
       "  </tbody>\n",
       "</table>\n",
       "</div>"
      ],
      "text/plain": [
       "       CRC_SIZE  SLITING_SCRAP  PIKLING_LOSE  ROLLING_SCRAP  \\\n",
       "1    0.20 X 762            NaN         74.38         125.62   \n",
       "2    0.20 X 914         275.00        104.54         149.63   \n",
       "29   0.75 X 914         401.25        161.88         112.36   \n",
       "37  0.90 X 1219            NaN        183.16         129.47   \n",
       "42  1.10 X 1219            NaN        157.50         150.71   \n",
       "\n",
       "    FINISHING_ID_SCRAP  FINISHING_TRIMING_LOSE  \n",
       "1               339.38                  798.12  \n",
       "2               398.60                  445.90  \n",
       "29              366.60                    8.33  \n",
       "37              246.84                  901.58  \n",
       "42              241.43                 1008.57  "
      ]
     },
     "execution_count": 13,
     "metadata": {},
     "output_type": "execute_result"
    }
   ],
   "source": [
    "#if we compare with acceptable coil\n",
    "scrap_size_acc = df[df['status'] == 'Acceptable'].groupby('CRC_SIZE')[['SLITING_SCRAP','PIKLING_LOSE','ROLLING_SCRAP','FINISHING_ID_SCRAP',\\\n",
    "                                               'FINISHING_TRIMING_LOSE']].mean().reset_index().round(2)\n",
    "scrap_size_acc[scrap_size_acc['CRC_SIZE'].str.contains('|'.join(size_req))]"
   ]
  },
  {
   "cell_type": "markdown",
   "id": "unauthorized-oklahoma",
   "metadata": {},
   "source": [
    "as the result above, the diffecence between scrap with low yield and acceptable yield is showed in rolling and finishing process. for low yield coil show that many scrap produced because of ID coil and triming process. ID coil occured because of coil with thin thickness (<0.350) it will produce ID in rolling process to avoid coil to collapse caused by no barrier for tension, so coil with thin thickness will need ID(Raw Material Thickness that wasn't rolled) to barrier the tension. and trimming process in finishing is used to cut the edge with standard width and to avoid wavy strip on edge or demage edge caused by handling. But, have rolling line have an impact for yield? we'll see below!"
   ]
  },
  {
   "cell_type": "markdown",
   "id": "judicial-france",
   "metadata": {},
   "source": [
    "### Yield by Rolling Line"
   ]
  },
  {
   "cell_type": "code",
   "execution_count": 14,
   "id": "herbal-negotiation",
   "metadata": {},
   "outputs": [
    {
     "name": "stderr",
     "output_type": "stream",
     "text": [
      "c:\\users\\fikri\\appdata\\local\\programs\\python\\python37\\lib\\site-packages\\ipykernel_launcher.py:17: UserWarning: FixedFormatter should only be used together with FixedLocator\n",
      "c:\\users\\fikri\\appdata\\local\\programs\\python\\python37\\lib\\site-packages\\ipykernel_launcher.py:18: UserWarning: FixedFormatter should only be used together with FixedLocator\n"
     ]
    },
    {
     "data": {
      "text/plain": [
       "[Text(0, 2, '0.906'), Text(0, 2, '0.900')]"
      ]
     },
     "execution_count": 14,
     "metadata": {},
     "output_type": "execute_result"
    },
    {
     "data": {
      "image/png": "[encoded data removed]",
      "text/plain": [
       "<Figure size 1440x720 with 2 Axes>"
      ]
     },
     "metadata": {},
     "output_type": "display_data"
    }
   ],
   "source": [
    "case1 = df[df['status'] != 'Acceptable']\n",
    "count_case = case1['ROLLING_LINE'].value_counts().reset_index()\n",
    "yield_case = case1.groupby('ROLLING_LINE')['YIELD(%)'].mean().reset_index()\n",
    "\n",
    "fig, (ax1, ax2) = plt.subplots(1, 2,figsize=(20,10))\n",
    "fig.tight_layout(w_pad=10)\n",
    "fig.suptitle('ROLLING LINE ',size=40)\n",
    "fig.subplots_adjust(top=0.8)\n",
    "ax1.set_title('Production Rate',size=26,pad=20)\n",
    "ax2.set_title('Yield Difference',size=26,pad=20)\n",
    "ax1.pie(count_case['ROLLING_LINE'], labels=count_case['index'], autopct='%1.1f%%',\n",
    "        shadow=True, startangle=90,textprops={'color':'w','size': '20'})\n",
    "ax1.axis('equal')\n",
    "axx = ax2.bar(yield_case['ROLLING_LINE'], yield_case['YIELD(%)'], color ='g',\n",
    "        width = 0.4)\n",
    "ax2.axis(ymin=0.85,ymax=0.92)\n",
    "ax2.set_xticklabels(yield_case['ROLLING_LINE'],size=18)\n",
    "ax2.set_yticklabels(' ')\n",
    "ax2.bar_label(axx,fmt='%.3f',padding=2, size=18)\n",
    "\n",
    "\n"
   ]
  },
  {
   "cell_type": "markdown",
   "id": "turkish-apparatus",
   "metadata": {},
   "source": [
    "diagrams above indices that 6HI Line have more production rate and higher yield than BLS, this result make BLS line have low capacity and low efficiency. but why this company still running this line? we must know characteristic of coil producted for each line first."
   ]
  },
  {
   "cell_type": "code",
   "execution_count": 15,
   "id": "smooth-diving",
   "metadata": {},
   "outputs": [
    {
     "data": {
      "image/png": "[encoded data removed]",
      "text/plain": [
       "<Figure size 1800x720 with 2 Axes>"
      ]
     },
     "metadata": {},
     "output_type": "display_data"
    }
   ],
   "source": [
    "group_yield = df.groupby(['ROLLING_LINE','WIDTH_RANGE','THICKNESS_RANGE'])['YIELD(%)'].mean().reset_index().sort_values(['ROLLING_LINE','WIDTH_RANGE','THICKNESS_RANGE'],ascending=False)\n",
    "\n",
    "plt.figure(figsize=(25,10))\n",
    "plt.suptitle('Yield(%) in Dimension Parameter Rolling Line', size=18)\n",
    "for index, col in enumerate(group_yield['ROLLING_LINE'].unique(), start=1):\n",
    "    plt.subplot(1,2,index)\n",
    "    dat = (group_yield['ROLLING_LINE'] == col)\n",
    "    plt.title(col,size=20)\n",
    "\n",
    "    ax = sns.barplot(x='WIDTH_RANGE', y='YIELD(%)',hue='THICKNESS_RANGE', data=group_yield[dat],palette='gnuplot')\n",
    "    plt.xlabel('Wide Range(mm)',size=14)\n",
    "    plt.ylabel('Yield',size=14)\n",
    "    plt.ylim(0.9,0.96)\n",
    "    for container in ax.containers:\n",
    "        ax.bar_label(container,fmt='%.3f',padding=2, size=12)\n",
    "\n"
   ]
  },
  {
   "cell_type": "markdown",
   "id": "eight-cabinet",
   "metadata": {},
   "source": [
    "for characteristic product, 6HI still have more variance than BLS line, in graph above indices that BLS in this dataset, just process for CRC product with Characteristic less than 930 for width CRC and <0.250mm for thickness. Or can BLS line process the CRC with MILL EDGE characteristic? how Mill Edge coil effect to yield?"
   ]
  },
  {
   "cell_type": "markdown",
   "id": "proved-present",
   "metadata": {},
   "source": [
    "### Mill edge coil analysis"
   ]
  },
  {
   "cell_type": "code",
   "execution_count": 16,
   "id": "accompanied-louisville",
   "metadata": {},
   "outputs": [
    {
     "name": "stdout",
     "output_type": "stream",
     "text": [
      "MILL_EDGE\n",
      "No     777\n",
      "Yes    680\n",
      "Name: MILL_EDGE, dtype: int64\n",
      "ROLLING_LINE  MILL_EDGE\n",
      "6HI           No           570\n",
      "              Yes          680\n",
      "BLS           No           207\n",
      "Name: MILL_EDGE, dtype: int64\n"
     ]
    }
   ],
   "source": [
    "df['MILL_EDGE'] = np.where(df['SLITING_TONNAGE_OUTPUT'].isna(),'No','Yes')\n",
    "print(df.groupby('MILL_EDGE')['MILL_EDGE'].count())\n",
    "print(df.groupby(['ROLLING_LINE','MILL_EDGE'])['MILL_EDGE'].count())"
   ]
  },
  {
   "cell_type": "code",
   "execution_count": 17,
   "id": "artificial-closing",
   "metadata": {},
   "outputs": [
    {
     "data": {
      "image/png": "[encoded data removed]",
      "text/plain": [
       "<Figure size 864x576 with 1 Axes>"
      ]
     },
     "metadata": {},
     "output_type": "display_data"
    }
   ],
   "source": [
    "edge_yield = df.groupby('MILL_EDGE')['YIELD(%)'].mean().reset_index()\n",
    "x = pd.Series(edge_yield['YIELD(%)'])\n",
    "y = edge_yield['MILL_EDGE']\n",
    "\n",
    "\n",
    "plt.figure(figsize=(12, 8))\n",
    "ax = x.plot(kind='barh', color='g')\n",
    "ax.set_title('Mill Edge Yield',size=20)\n",
    "ax.set_xlabel('Yield(%)')\n",
    "ax.set_ylabel('Mill Edge')\n",
    "ax.set_yticklabels(y)\n",
    "ax.set_xlim(0.92, 0.96) \n",
    "rects = ax.patches\n",
    "\n",
    "\n",
    "for rect in rects:\n",
    "\n",
    "    x_value = rect.get_width()\n",
    "    y_value = rect.get_y() + rect.get_height() / 2\n",
    "    space = 5\n",
    "    ha = 'left'\n",
    "    if x_value < 0:\n",
    "        space *= -1\n",
    "        ha = 'right'\n",
    "    label = \"{:.3f}\".format(x_value)\n",
    "\n",
    "\n",
    "    plt.annotate(\n",
    "        label,                      \n",
    "        (x_value, y_value),         \n",
    "        xytext=(space, 0),          \n",
    "        textcoords=\"offset points\", \n",
    "        va='center',                \n",
    "        ha=ha)                      \n",
    "                                    \n"
   ]
  },
  {
   "cell_type": "markdown",
   "id": "double-shanghai",
   "metadata": {},
   "source": [
    "Mill edge coil have significant impact for CRC yield, but BLS line still didn't produce Mill Edge CRC, that's why BLS line have lower efficient than 6hi, for distribution CRC size in Mill edge will show below."
   ]
  },
  {
   "cell_type": "code",
   "execution_count": 18,
   "id": "northern-bidder",
   "metadata": {},
   "outputs": [
    {
     "data": {
      "image/png": "[encoded data removed]",
      "text/plain": [
       "<Figure size 576x504 with 1 Axes>"
      ]
     },
     "metadata": {},
     "output_type": "display_data"
    }
   ],
   "source": [
    "group_yield2 = df.groupby(['MILL_EDGE','WIDTH_RANGE','THICKNESS_RANGE'])['YIELD(%)'].mean().reset_index().sort_values(['MILL_EDGE','WIDTH_RANGE','THICKNESS_RANGE'],ascending=False)\n",
    "ax = sns.barplot(x='THICKNESS_RANGE', y='YIELD(%)',hue='MILL_EDGE', data=group_yield2,palette='gnuplot',ci=None)\n",
    "plt.xlabel('Wide Range(mm)',size=14)\n",
    "plt.ylabel('Yield',size=14)\n",
    "plt.ylim(0.92,0.96)\n",
    "for container in ax.containers:\n",
    "    ax.bar_label(container,fmt='%.3f',padding=2, size=12)\n",
    "\n"
   ]
  },
  {
   "cell_type": "markdown",
   "id": "automatic-interim",
   "metadata": {},
   "source": [
    "next, we need to know how about time rolling for every size in cold rolling process"
   ]
  },
  {
   "cell_type": "code",
   "execution_count": 19,
   "id": "wanted-density",
   "metadata": {},
   "outputs": [
    {
     "data": {
      "image/png": "[encoded data removed]",
      "text/plain": [
       "<Figure size 1800x720 with 2 Axes>"
      ]
     },
     "metadata": {},
     "output_type": "display_data"
    }
   ],
   "source": [
    "group_yield = df.groupby(['ROLLING_LINE','WIDTH_RANGE','THICKNESS_RANGE'])['ROLLING_TIME'].mean().reset_index().sort_values(['ROLLING_LINE','WIDTH_RANGE','THICKNESS_RANGE'],ascending=False)\n",
    "\n",
    "plt.figure(figsize=(25,10))\n",
    "plt.suptitle('Rolling Time in Dimension Parameter Rolling Line', size=18)\n",
    "for index, col in enumerate(group_yield['ROLLING_LINE'].unique(), start=1):\n",
    "    plt.subplot(1,2,index)\n",
    "    dat = (group_yield['ROLLING_LINE'] == col)\n",
    "    plt.title(col,size=20)\n",
    "\n",
    "    ax = sns.barplot(x='WIDTH_RANGE', y='ROLLING_TIME',hue='THICKNESS_RANGE', data=group_yield[dat],palette='gnuplot')\n",
    "    plt.xlabel('Wide Range(mm)',size=14)\n",
    "    plt.ylabel('Rolling Time(minutes)',size=14)\n",
    "    plt.ylim(15,96)\n",
    "    for container in ax.containers:\n",
    "        ax.bar_label(container,fmt='%.3f',padding=2, size=12)"
   ]
  },
  {
   "cell_type": "markdown",
   "id": "clear-upper",
   "metadata": {},
   "source": [
    "   for rolling time in every CRC size show that time is more influenced by thickness. it's because we need more time to reduce thinner thickness, thickness reducted step by step, steel have %elongation that indice ability to deformation that occurs before a material eventually breaks, common HRC have elongation about 32%. if we reduce the thickness above that elongation. the coil will strip break.\n",
    "   \n",
    "   So we can decide that BLS still use because to distribute the <0.20 CRC Order from 6HI. the less 6HI process CRC with target <0.250, the more 6HI will process other size and make more productivity for company, example the time used for process **1 Coil** <0.250 with width <930 is almost same the time used for approx. **3 coil** with 0.650-1.000 thickness and <930mm width (1:3). this can be option if the company have full production, it can make time more efficient."
   ]
  },
  {
   "cell_type": "markdown",
   "id": "bored-annual",
   "metadata": {},
   "source": [
    "last but not least, some coil may not always low yield caused by process parameter, it also comes from raw material itself, the finishing line will note that if the coil produced more scrap than usual, it'll write in remark."
   ]
  },
  {
   "cell_type": "markdown",
   "id": "mature-merit",
   "metadata": {},
   "source": [
    "### defect data analysis"
   ]
  },
  {
   "cell_type": "code",
   "execution_count": 20,
   "id": "legendary-storage",
   "metadata": {},
   "outputs": [
    {
     "data": {
      "text/plain": [
       "Scrap more due to Wrinkle                                                 9\n",
       "Scrap More Due To wrinkle                                                 7\n",
       "Scrap more due to wavy                                                    7\n",
       "Scrap more due to Kink Mark                                               4\n",
       "Scrap more due to R/R coil                                                4\n",
       "scrap more due to wavy & id more from blismill                            4\n",
       "Scrap more due to Wavy and crack                                          3\n",
       "scrap more due to crack from 6-himill                                     3\n",
       "Scarp more due to wavy                                                    3\n",
       "Scrap more due to kink mark                                               2\n",
       "Scrap more due to pinch mark and ridge                                    2\n",
       "Scrap more due to Wavy and colant mark                                    2\n",
       "Scrap  more due to wavy                                                   1\n",
       "Scrap more E/ CRACK ( BLISSMILL )                                         1\n",
       "Scrap more due to Crack ptpng 715 kg                                      1\n",
       "Scrap more due to over thicknes 0.24                                      1\n",
       "ID More due to wrinkle and tail wrinkle at both side                      1\n",
       "Scrap ID sleeve ada kink                                                  1\n",
       "Scrap more due to Scratch and chamber                                     1\n",
       "Scrap more due to Coil RR                                                 1\n",
       "Scrap more due to Wavy and kink mark                                      1\n",
       "scrap more due to rusty and Wavy                                          1\n",
       "Scrap Head Scratch Potong ( 300Kg )                                       1\n",
       "Scrap more due to id lamination and hole                                  1\n",
       "Scrap more due to id more blismill                                        1\n",
       "Scrap  more due to wavy and Crack                                         1\n",
       "Scrap ID more E/ CRACK ( BLISSMILL )                                      1\n",
       "Scrap naik head potong ada crack + Repair tail wve at O/S                 1\n",
       "Scrap more due to Crack 580 kg in rewending                               1\n",
       "Scrap more due to collant mark                                            1\n",
       "Scrap more CRACK ( Blismill )                                             1\n",
       "Scrap more due to tail Pinching                                           1\n",
       "Scrap more due to coil R/R                                                1\n",
       "Scrap More Due To big Crack from 6-himill                                 1\n",
       "Scrap more due to Wavy and Rol mark                                       1\n",
       "Scrap more due to wavy & Crack                                            1\n",
       "Scarp more due to crack & chamber                                         1\n",
       "Scrap More Due To wrinkle & Scratch                                       1\n",
       "Scrap more belt weaper sensor error ( rewinding ) coil rusak di potong    1\n",
       "Scrap more due crack                                                      1\n",
       "scrap more due to crack and collant mark                                  1\n",
       "Scrap naik ada crack ( Divert to catur )                                  1\n",
       "Tail cbu at both side ID more from blissmill                              1\n",
       "Scrap More Due to Problem listrik ( PLN )                                 1\n",
       "Scrap more due to R/R coil & Scrap more due to kink mark                  1\n",
       "Scrap more due to crack and hole                                          1\n",
       "Scrap more due to pinching                                                1\n",
       "Scrap more due to Wavy                                                    1\n",
       "Scrap Id More From Blissmill                                              1\n",
       "Scrap more due to coil R/R and kink                                       1\n",
       "Scrap wavy at o/s head Ǿ 830 ( Repair secrated edge damage )              1\n",
       "Scrap more due to pinching & Ridge                                        1\n",
       "Name: REMARK, dtype: int64"
      ]
     },
     "execution_count": 20,
     "metadata": {},
     "output_type": "execute_result"
    }
   ],
   "source": [
    "# see the remark note\n",
    "df[(df['YIELD(%)'] <0.92)]['REMARK'].value_counts()"
   ]
  },
  {
   "cell_type": "code",
   "execution_count": 21,
   "id": "welcome-albania",
   "metadata": {},
   "outputs": [
    {
     "data": {
      "text/html": [
       "<div>\n",
       "<style scoped>\n",
       "    .dataframe tbody tr th:only-of-type {\n",
       "        vertical-align: middle;\n",
       "    }\n",
       "\n",
       "    .dataframe tbody tr th {\n",
       "        vertical-align: top;\n",
       "    }\n",
       "\n",
       "    .dataframe thead th {\n",
       "        text-align: right;\n",
       "    }\n",
       "</style>\n",
       "<table border=\"1\" class=\"dataframe\">\n",
       "  <thead>\n",
       "    <tr style=\"text-align: right;\">\n",
       "      <th></th>\n",
       "      <th>defect</th>\n",
       "      <th>total</th>\n",
       "    </tr>\n",
       "  </thead>\n",
       "  <tbody>\n",
       "    <tr>\n",
       "      <th>7</th>\n",
       "      <td>wavy</td>\n",
       "      <td>27</td>\n",
       "    </tr>\n",
       "    <tr>\n",
       "      <th>3</th>\n",
       "      <td>crack</td>\n",
       "      <td>20</td>\n",
       "    </tr>\n",
       "    <tr>\n",
       "      <th>0</th>\n",
       "      <td>wrinkle</td>\n",
       "      <td>18</td>\n",
       "    </tr>\n",
       "    <tr>\n",
       "      <th>1</th>\n",
       "      <td>mark</td>\n",
       "      <td>15</td>\n",
       "    </tr>\n",
       "    <tr>\n",
       "      <th>5</th>\n",
       "      <td>kink</td>\n",
       "      <td>10</td>\n",
       "    </tr>\n",
       "    <tr>\n",
       "      <th>2</th>\n",
       "      <td>r/r</td>\n",
       "      <td>7</td>\n",
       "    </tr>\n",
       "    <tr>\n",
       "      <th>9</th>\n",
       "      <td>scratch</td>\n",
       "      <td>3</td>\n",
       "    </tr>\n",
       "    <tr>\n",
       "      <th>11</th>\n",
       "      <td>ridge</td>\n",
       "      <td>3</td>\n",
       "    </tr>\n",
       "    <tr>\n",
       "      <th>10</th>\n",
       "      <td>chamber</td>\n",
       "      <td>2</td>\n",
       "    </tr>\n",
       "    <tr>\n",
       "      <th>4</th>\n",
       "      <td>cbu</td>\n",
       "      <td>1</td>\n",
       "    </tr>\n",
       "    <tr>\n",
       "      <th>6</th>\n",
       "      <td>over</td>\n",
       "      <td>1</td>\n",
       "    </tr>\n",
       "    <tr>\n",
       "      <th>8</th>\n",
       "      <td>error</td>\n",
       "      <td>1</td>\n",
       "    </tr>\n",
       "  </tbody>\n",
       "</table>\n",
       "</div>"
      ],
      "text/plain": [
       "     defect  total\n",
       "7      wavy     27\n",
       "3     crack     20\n",
       "0   wrinkle     18\n",
       "1      mark     15\n",
       "5      kink     10\n",
       "2       r/r      7\n",
       "9   scratch      3\n",
       "11    ridge      3\n",
       "10  chamber      2\n",
       "4       cbu      1\n",
       "6      over      1\n",
       "8     error      1"
      ]
     },
     "execution_count": 21,
     "metadata": {},
     "output_type": "execute_result"
    }
   ],
   "source": [
    "# we counting the defect detected in coil\n",
    "defects = ['wrinkle','mark','r/r','crack','cbu','kink','over','wavy','error','scratch','chamber','ridge'] # common defect\n",
    "defect_count = []\n",
    "for defect in defects :\n",
    "    deftot = pd.DataFrame(columns=['defect', 'total'])\n",
    "    deftot = deftot.append({'defect' : defect},ignore_index=True)\n",
    "    deftot['total'] = df[(df['YIELD(%)'] <0.92)]['REMARK'].str.contains(defect,case=False).sum()\n",
    "    defect_count.append(deftot)\n",
    "    del deftot\n",
    "\n",
    "defect_final = pd.concat(defect_count, ignore_index=False)\n",
    "defect_final.reset_index(drop=True).sort_values('total',ascending=False)"
   ]
  },
  {
   "cell_type": "markdown",
   "id": "infrared-punishment",
   "metadata": {},
   "source": [
    "so many defect that occurs in this dataset, but we have to simplified the defect to make easier to analize. defect in CRC commonly divided by 2. first, defect that occur at edge of the strip of coil, then the other occur at the center of the strip. the edge defect in the table above is : crack and wavy. if this defect occur, the weight loss will calculate in trimming lose, but if mill edge coil. it'll strip cut when edge defect occur or it'll rerolling to reduce the defect. then the other defect will calculate in ID scrap. \n"
   ]
  },
  {
   "cell_type": "markdown",
   "id": "flush-subscription",
   "metadata": {},
   "source": [
    "## Conclusion\n"
   ]
  },
  {
   "cell_type": "markdown",
   "id": "electronic-sustainability",
   "metadata": {},
   "source": [
    "After we analyze the dataset of coil production, we can decide the conclusion as the point below:\n",
    "    \n",
    " * Cold Rolling Mill is the one of process in Steel Manufacturing, that produced Cold Rolled Coil.\n",
    " * there are 1303 Coils that acceptable to send to customer, but there are 154 coil that below threshold.\n",
    " * lower yield caused by scrap or byproduct that producted from every process line\n",
    " * 6HI Line have more production rate  66.9% and higher yield 0.906 than BLS from total coil that below threshold\n",
    " * lower yield mostly occur for coil with thickness <0.250 and width <930mm for every cold rolling mill, its result approx  0.92%\n",
    " * lower yield occur because coil with target thickness thinner need ID from raw material thickness to avoid coil collapse caused by tension to inner diameter.\n",
    " * Mill edge coil is the coil that was edge cut from sliting line.\n",
    " * Mill edge coil have higher average yield 0.95% than non-Mill edge 0.93%.\n",
    " * BLS can be optional line for distribution coil with target thickness <0.250mm to maximize time efficient up to 30%\n",
    " * mostly defect occur is edge defect that make trimming lose in finishing line higher."
   ]
  },
  {
   "cell_type": "code",
   "execution_count": null,
   "id": "duplicate-mexican",
   "metadata": {},
   "outputs": [],
   "source": []
  }
 ],
 "metadata": {
  "kernelspec": {
   "display_name": "Python 3",
   "language": "python",
   "name": "python3"
  },
  "language_info": {
   "codemirror_mode": {
    "name": "ipython",
    "version": 3
   },
   "file_extension": ".py",
   "mimetype": "text/x-python",
   "name": "python",
   "nbconvert_exporter": "python",
   "pygments_lexer": "ipython3",
   "version": "3.7.2"
  }
 },
 "nbformat": 4,
 "nbformat_minor": 5
}
